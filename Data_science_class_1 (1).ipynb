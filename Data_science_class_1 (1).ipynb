{
 "cells": [
  {
   "cell_type": "code",
   "execution_count": 8,
   "id": "852b5dd7-26f6-49c6-8689-d54bd748e107",
   "metadata": {},
   "outputs": [],
   "source": [
    "#Nishant\n",
    "#Bca \n",
    "#Batch 1\n",
    "#Day 1"
   ]
  },
  {
   "cell_type": "code",
   "execution_count": 6,
   "id": "a7aa7f4d-e088-4b6b-8943-6c8e2ed17a34",
   "metadata": {},
   "outputs": [
    {
     "name": "stdout",
     "output_type": "stream",
     "text": [
      "enter 1 for addition\n",
      "enter 2 for Subtract\n",
      "enter 3 for multiply\n",
      "enter 4 for Divide\n",
      "enter 5 for Modules\n"
     ]
    },
    {
     "name": "stdin",
     "output_type": "stream",
     "text": [
      "Enter your  choice 2\n",
      "enter first number 3\n",
      "enter second number 6\n"
     ]
    },
    {
     "name": "stdout",
     "output_type": "stream",
     "text": [
      "-3\n"
     ]
    }
   ],
   "source": [
    "print(\"enter 1 for addition\")\n",
    "print(\"enter 2 for Subtract\")\n",
    "print(\"enter 3 for multiply\")\n",
    "print(\"enter 4 for Divide\")\n",
    "print(\"enter 5 for Modules\")\n",
    "Choice = int(input(\"Enter your  choice\"))\n",
    "\n",
    "\n",
    "a= int(input(\"enter first number\"))\n",
    "b= int(input(\"enter second number\"))\n",
    "if(Choice == 1):\n",
    "    print(a+b)\n",
    "elif(Choice == 2):\n",
    "    print(a-b)\n",
    "elif(Choice == 3):\n",
    "    print(a*b)\n",
    "elif(Choice == 4):\n",
    "    print(a/b)\n",
    "elif(Choice == 5):\n",
    "    print(a%b)"
   ]
  },
  {
   "cell_type": "code",
   "execution_count": 1,
   "id": "24e636c6-3f5b-4cd3-b2cc-5eaf0782ec98",
   "metadata": {},
   "outputs": [
    {
     "name": "stdout",
     "output_type": "stream",
     "text": [
      "True\n"
     ]
    }
   ],
   "source": [
    "\n",
    "l1 =[1,2,3]\n",
    "l2 = [1,2,3]\n",
    "print(l1==l2)"
   ]
  },
  {
   "cell_type": "code",
   "execution_count": 3,
   "id": "36ebe8fa-3040-4e0e-bb8e-f8839d80aeb1",
   "metadata": {},
   "outputs": [
    {
     "name": "stdout",
     "output_type": "stream",
     "text": [
      "7\n",
      "4\n",
      "8\n",
      "1.6\n"
     ]
    }
   ],
   "source": [
    "a= 5\n",
    "a+=2\n",
    "print(a)\n",
    "a-=3\n",
    "print(a)\n",
    "a*=2\n",
    "print(a)\n",
    "a/=5\n",
    "print(a)"
   ]
  },
  {
   "cell_type": "code",
   "execution_count": null,
   "id": "dcb45944-1e64-4159-974d-eb2e7b86cb3b",
   "metadata": {},
   "outputs": [],
   "source": [
    "a=2\n",
    "b=3\n",
    "c=5.7\n",
    "d=\"hello\"\n",
    "print(a==b)\n",
    "print(a!=c)\n",
    "print(b>=a)\n",
    "print(c<=a)\n",
    "print(c==d)"
   ]
  },
  {
   "cell_type": "code",
   "execution_count": 1,
   "id": "03afe6e5-f0a0-48ea-8d80-63bf44db740d",
   "metadata": {},
   "outputs": [
    {
     "name": "stdout",
     "output_type": "stream",
     "text": [
      "one of them 10 or 12 is 10\n"
     ]
    }
   ],
   "source": [
    "a=10\n",
    "b=12\n",
    "if a or b == 10:\n",
    "    print(f\"one of them {a} or {b} is 10\")\n",
    "elif a or b != 10 or 12:\n",
    "    print(\"None of them is equal to 10 or either 12 or 10\")\n",
    "    "
   ]
  },
  {
   "cell_type": "code",
   "execution_count": 2,
   "id": "402886a7-4039-4b6e-b460-c6885fe10d08",
   "metadata": {},
   "outputs": [
    {
     "name": "stdout",
     "output_type": "stream",
     "text": [
      "True\n"
     ]
    }
   ],
   "source": [
    "l1= [10,12,23,45 ]\n",
    "print(23 in l1)"
   ]
  },
  {
   "cell_type": "code",
   "execution_count": 3,
   "id": "c86a27e2-9b71-4c95-a6e7-3f314481d2f9",
   "metadata": {},
   "outputs": [
    {
     "name": "stdout",
     "output_type": "stream",
     "text": [
      "False\n"
     ]
    }
   ],
   "source": [
    "l1 = [10,20,30]\n",
    "l2 = [10,20,30]\n",
    "print(l1 is l2)\n"
   ]
  },
  {
   "cell_type": "code",
   "execution_count": null,
   "id": "d203613d-9647-4664-8939-04812f887d09",
   "metadata": {},
   "outputs": [],
   "source": []
  },
  {
   "cell_type": "code",
   "execution_count": null,
   "id": "6586da01-ca0b-474b-9659-afdf3784d15c",
   "metadata": {},
   "outputs": [],
   "source": []
  }
 ],
 "metadata": {
  "kernelspec": {
   "display_name": "Python 3 (ipykernel)",
   "language": "python",
   "name": "python3"
  },
  "language_info": {
   "codemirror_mode": {
    "name": "ipython",
    "version": 3
   },
   "file_extension": ".py",
   "mimetype": "text/x-python",
   "name": "python",
   "nbconvert_exporter": "python",
   "pygments_lexer": "ipython3",
   "version": "3.13.5"
  }
 },
 "nbformat": 4,
 "nbformat_minor": 5
}
