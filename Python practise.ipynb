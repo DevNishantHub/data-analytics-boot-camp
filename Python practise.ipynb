{
 "cells": [
  {
   "cell_type": "code",
   "execution_count": 4,
   "id": "90cf09b6-3c64-4c43-83ed-a3143b5041f2",
   "metadata": {},
   "outputs": [
    {
     "name": "stdout",
     "output_type": "stream",
     "text": [
      "2\n"
     ]
    }
   ],
   "source": [
    "# Level 1: Basic Tuple Operations\n",
    "# Topic: Tuples - Basic Operations\n",
    "# Difficulty: Beginner\n",
    "# Question: Create a tuple with the values (1, 2, 3) and access the second element.\n",
    "tup1 = (1,2,3)\n",
    "print(tup1[1])"
   ]
  },
  {
   "cell_type": "code",
   "execution_count": 5,
   "id": "5b3f8b29-5743-45f6-b149-84a6f7a5c8f3",
   "metadata": {},
   "outputs": [
    {
     "name": "stdout",
     "output_type": "stream",
     "text": [
      "[1, 2, 3, 4, 5, 6]\n"
     ]
    }
   ],
   "source": [
    "# Level 2: List Manipulation\n",
    "# Topic: Lists - Adding Elements\n",
    "# Difficulty: Beginner\n",
    "\n",
    "# Question: Create a list  and use the append() method to add the number 6 to the end.\n",
    "\n",
    "li = [1,2,3,4,5]\n",
    "li.append(6)\n",
    "print(li)"
   ]
  },
  {
   "cell_type": "code",
   "execution_count": 6,
   "id": "561c7f52-79e2-4395-9cb2-43e3db4a384f",
   "metadata": {},
   "outputs": [
    {
     "name": "stdout",
     "output_type": "stream",
     "text": [
      "{'name': 'John', 'age': 25, 'city': 'New York'}\n"
     ]
    }
   ],
   "source": [
    "# Level 3: Dictionary Operations\n",
    "# Topic: Dictionaries - Basic Operations\n",
    "# Difficulty: Beginner\n",
    "\n",
    "# Question: Create a dictionary {'name': 'John', 'age': 25} and add a new key-value pair 'city': 'New York'.\n",
    "\n",
    "dic = {'name': 'John', 'age': 25}\n",
    "dic['city'] = 'New York'\n",
    "\n",
    "print(dic)"
   ]
  },
  {
   "cell_type": "code",
   "execution_count": 10,
   "id": "c8b85d6d-74f3-41aa-b7e0-b3349de577f2",
   "metadata": {},
   "outputs": [
    {
     "name": "stdout",
     "output_type": "stream",
     "text": [
      "Union of set a and b will be: {1, 2, 3, 4, 5, 6}\n",
      "Intersection of set a and b will be: {3, 4}\n",
      "Union of set a and b will be: {1, 2, 3, 4, 5, 6}\n",
      "Intersection of set a and b will be: {3, 4}\n"
     ]
    }
   ],
   "source": [
    "# Level 4: Set Operations\n",
    "# Topic: Sets - Mathematical Operations\n",
    "# Difficulty: Beginner-Intermediate\n",
    "\n",
    "# Question: Given two sets a = {1, 2, 3, 4} and b = {3, 4, 5, 6}, find their union and intersection.\n",
    "\n",
    "a = {1, 2, 3, 4}\n",
    "b = {3, 4, 5, 6}\n",
    "\n",
    "print(f\"Union of set a and b will be: {a.union(b)}\")\n",
    "print(f\"Intersection of set a and b will be: {a.intersection(b)}\")\n",
    "\n",
    "print(f\"Union of set a and b will be: {a | b}\")\n",
    "print(f\"Intersection of set a and b will be: {a & b}\")"
   ]
  },
  {
   "cell_type": "code",
   "execution_count": 14,
   "id": "0d14542b-a04a-488d-a1b3-19671af6336f",
   "metadata": {},
   "outputs": [
    {
     "name": "stdout",
     "output_type": "stream",
     "text": [
      "(0, 'apple')\n",
      "(1, 'banana')\n",
      "(2, 'cherry')\n"
     ]
    }
   ],
   "source": [
    "# Level 5: Built-in Functions\n",
    "# Topic: Built-in Functions - enumerate\n",
    "# Difficulty: Intermediate\n",
    "\n",
    "# Question: Use the enumerate() function to iterate over the list ['apple', 'banana', 'cherry'] and print both the index and value.\n",
    "\n",
    "fruits = ['apple', 'banana', 'cherry']\n",
    "new_fruits = {}\n",
    "for i in list(enumerate(fruits)):\n",
    "    print(i)"
   ]
  },
  {
   "cell_type": "code",
   "execution_count": 15,
   "id": "30213367-9b49-4a23-aa34-63becff8de17",
   "metadata": {},
   "outputs": [
    {
     "name": "stdout",
     "output_type": "stream",
     "text": [
      "[1, 4, 9, 16, 25, 36, 49, 64, 81, 100]\n"
     ]
    }
   ],
   "source": [
    "# Level 6: List Comprehensions\n",
    "# Topic: List Comprehensions\n",
    "# Difficulty: Intermediate\n",
    "\n",
    "# Question: Create a list comprehension that generates squares of numbers from 1 to 10, but only for even numbers.\n",
    "\n",
    "li = [x**2 for x in range(1,11)]\n",
    "print(li)"
   ]
  },
  {
   "cell_type": "code",
   "execution_count": 18,
   "id": "33682dd0-63c3-48df-bec5-fb0215689d9a",
   "metadata": {},
   "outputs": [
    {
     "name": "stdout",
     "output_type": "stream",
     "text": [
      "hi nishant\n"
     ]
    }
   ],
   "source": [
    "# Level 7: Functions with Default Arguments\n",
    "# Topic: Functions - Default Arguments\n",
    "# Difficulty: Intermediate\n",
    "\n",
    "# Question: Write a function called 'greet' that takes a name as a required parameter and a greeting as an optional parameter (default: 'Hello').\n",
    "# The function should return the greeting message.\n",
    "\n",
    "\n",
    "def greet(name,greeting = 'hello'):\n",
    "    print(greeting,name)\n",
    "greet('nishant')"
   ]
  },
  {
   "cell_type": "code",
   "execution_count": 29,
   "id": "2e2390cf-3f1c-4f1c-a9aa-2a835ad79310",
   "metadata": {},
   "outputs": [
    {
     "name": "stdout",
     "output_type": "stream",
     "text": [
      "['c++', 'java', 'python', 'javascript']\n"
     ]
    }
   ],
   "source": [
    "# Level 8: Lambda Functions and Sorting\n",
    "# Topic: Lambda Functions - Sorting\n",
    "# Difficulty: Intermediate-Advanced\n",
    "\n",
    "# Question: Given a list of strings ['python', 'java', 'c++', 'javascript'], sort them by their length using a lambda function.\n",
    "\n",
    "li = ['python', 'java', 'c++', 'javascript']\n",
    "sort = lambda li: sorted(li,key=len)\n",
    "print(sort(li))"
   ]
  },
  {
   "cell_type": "code",
   "execution_count": 6,
   "id": "b61d680d-d3be-467f-8e9b-8e33430a5210",
   "metadata": {},
   "outputs": [
    {
     "name": "stdout",
     "output_type": "stream",
     "text": [
      "0\n",
      "1\n",
      "1\n",
      "2\n",
      "3\n",
      "5\n",
      "8\n",
      "13\n",
      "21\n",
      "34\n",
      "55\n",
      "89\n",
      "144\n",
      "233\n"
     ]
    }
   ],
   "source": [
    "# Level 9: Generators\n",
    "# Topic: Generators\n",
    "# Difficulty: Advanced\n",
    "\n",
    "# Question: Create a generator function that yields the Fibonacci sequence up to n terms. Test it with n=10.\n",
    "\n",
    "def gen(n):\n",
    "    a=0\n",
    "    b=1\n",
    "    for i in range(1,n):\n",
    "        print(a)\n",
    "        c=a\n",
    "        a=b\n",
    "        b=c+b\n",
    "        \n",
    "gen(15)\n",
    "    \n",
    "\n",
    "        "
   ]
  },
  {
   "cell_type": "code",
   "execution_count": 28,
   "id": "3f0bed0f-402c-499d-94e4-6c5a8e58c82d",
   "metadata": {},
   "outputs": [
    {
     "name": "stdout",
     "output_type": "stream",
     "text": [
      "{'apple': {'length': 5}, 'banana': {'length': 6}, 'orange': {'length': 6}, 'grape': {'length': 5}, 'mango': {'length': 5}, 'peach': {'length': 5}, 'pear': {'length': 4}, 'papaya': {'length': 6}}\n"
     ]
    }
   ],
   "source": [
    "# Level 10: Complex Dictionary Comprehensions\n",
    "# Topic: Dictionary Comprehensions - Complex\n",
    "# Difficulty: Advanced\n",
    "\n",
    "# Question: Create a dictionary comprehension that takes a list of words and creates a dictionary where \n",
    "# keys are the words and values are dictionaries containing the word length and whether it contains the letter 'a'.\n",
    "# Only include words that are longer than 3 characters.\n",
    "fruits = ['apple', 'banana', 'cherry', 'orange', 'grape', 'mango', 'kiwi', 'peach', 'pear', 'plum', 'melon', 'papaya', 'lemon', 'lime', 'blueberry']\n",
    "dic = {\n",
    "    x: {\n",
    "        \"length\": len(x)\n",
    "    }\n",
    "    for x in fruits if len(x) > 3 and 'a' in x\n",
    "}\n",
    "\n",
    "print(dic)\n",
    "\n",
    "\n",
    "\n",
    "\n"
   ]
  },
  {
   "cell_type": "code",
   "execution_count": null,
   "id": "6dd02acf-6ba1-43fe-b2ad-6b0d204eab28",
   "metadata": {},
   "outputs": [],
   "source": []
  },
  {
   "cell_type": "code",
   "execution_count": null,
   "id": "ccc13f10-b74a-4a8e-81e4-647f6350156a",
   "metadata": {},
   "outputs": [],
   "source": []
  },
  {
   "cell_type": "code",
   "execution_count": null,
   "id": "e9e7999e-b1f8-41cc-bf60-adf4f17eb146",
   "metadata": {},
   "outputs": [],
   "source": []
  },
  {
   "cell_type": "code",
   "execution_count": null,
   "id": "6fd43bec-b333-4b97-873f-c5df910d5f92",
   "metadata": {},
   "outputs": [],
   "source": []
  },
  {
   "cell_type": "code",
   "execution_count": null,
   "id": "3eba1f28-99d9-4a01-a038-823e61882fb2",
   "metadata": {},
   "outputs": [],
   "source": []
  },
  {
   "cell_type": "code",
   "execution_count": null,
   "id": "17c58aec-99eb-4e31-977c-16c5c6552267",
   "metadata": {},
   "outputs": [],
   "source": []
  },
  {
   "cell_type": "code",
   "execution_count": null,
   "id": "ac210545-556d-46ac-9335-98da349b643b",
   "metadata": {},
   "outputs": [],
   "source": []
  },
  {
   "cell_type": "code",
   "execution_count": null,
   "id": "3f4a7902-0ecd-472b-a338-e704474dc877",
   "metadata": {},
   "outputs": [],
   "source": []
  },
  {
   "cell_type": "code",
   "execution_count": 31,
   "id": "7aef9eb9-2d5a-41dc-a08b-391292000873",
   "metadata": {},
   "outputs": [
    {
     "name": "stdout",
     "output_type": "stream",
     "text": [
      "10\n",
      "9\n",
      "8\n",
      "7\n",
      "6\n",
      "5\n",
      "4\n"
     ]
    }
   ],
   "source": [
    "import itertools\n",
    "\n",
    "def countdown(n):\n",
    "    for i in range(n,0,-1):\n",
    "        yield i\n",
    "gen = countdown(10)\n",
    "print(next(gen))\n",
    "print(next(gen))\n",
    "print(next(gen))\n",
    "print(next(gen))\n",
    "print(next(gen))\n",
    "print(next(gen))\n",
    "print(next(gen))"
   ]
  },
  {
   "cell_type": "code",
   "execution_count": 47,
   "id": "858e3553-d4e2-4ff3-9259-035d912b4e88",
   "metadata": {},
   "outputs": [
    {
     "name": "stdout",
     "output_type": "stream",
     "text": [
      "[0, 4, 16, 36, 64]\n"
     ]
    }
   ],
   "source": [
    "# 4. Generator Expression\n",
    "# Convert this list comprehension to a generator expression and explain when you'd use each:\n",
    "# [x**2 for x in range(10) if x % 2 == 0]\n",
    "\n",
    "def comp():\n",
    "    g = (x**2 for x in range(10) if x % 2 == 0)\n",
    "    for i in g:\n",
    "        yield i\n",
    "li = comp()\n",
    "print(list(li))"
   ]
  },
  {
   "cell_type": "code",
   "execution_count": 48,
   "id": "7b7b19f2-522d-4e3e-aed0-b7d6d245faff",
   "metadata": {},
   "outputs": [
    {
     "name": "stdout",
     "output_type": "stream",
     "text": [
      "[0, 4, 16, 36, 64]\n"
     ]
    }
   ],
   "source": [
    "# 4. Generator Expression\n",
    "# Convert this list comprehension to a generator expression and explain when you'd use each:\n",
    "# [x**2 for x in range(10) if x % 2 == 0]\n",
    "\n",
    "def comp():\n",
    "    g = (x**2 for x in range(10) if x % 2 == 0)\n",
    "    yield from g\n",
    "li = comp()\n",
    "print(list(li))"
   ]
  },
  {
   "cell_type": "code",
   "execution_count": 49,
   "id": "9cee4394-f6ee-4508-bca3-5fa5a0c97e26",
   "metadata": {},
   "outputs": [
    {
     "name": "stdout",
     "output_type": "stream",
     "text": [
      "\n"
     ]
    }
   ],
   "source": [
    "# 6. Practical Generator Use\n",
    "# Write a generator function read_file_lines(filename) that yields lines from a file one at a time without loading the entire file into memory.\n",
    "\n",
    "def read_file_lines(filename):\n",
    "    with open(filename,mode=\"r\") as f:\n",
    "        line = (x.rstrip() for x in f)\n",
    "        for i in line:\n",
    "            yield i\n"
   ]
  },
  {
   "cell_type": "code",
   "execution_count": 50,
   "id": "c37c1083-d56a-41bb-960b-b6ba19051f3b",
   "metadata": {},
   "outputs": [],
   "source": [
    "# 7. Fibonacci Generator\n",
    "# Create a generator function fibonacci(n) that generates the first n Fibonacci numbers. Show how to use it.\n",
    "\n",
    "def fibonacci(n):\n",
    "    a,b=0,1\n",
    "    for i in range(0,n):\n",
    "        yield a\n",
    "        a,b = b,a+b"
   ]
  },
  {
   "cell_type": "code",
   "execution_count": 9,
   "id": "3a514731-f802-48d0-89ad-2522c043579e",
   "metadata": {},
   "outputs": [
    {
     "name": "stdout",
     "output_type": "stream",
     "text": [
      "A ['Alan', 'Adam', 'Albert']\n",
      "S ['Steven']\n",
      "W ['Wes', 'Will']\n"
     ]
    }
   ],
   "source": [
    "# 8. Basic itertools Usage\n",
    "# Use itertools.groupby() to group this list of words by their first letter:\n",
    "# pythonnames = [\"Alan\", \"Adam\", \"Wes\", \"Will\", \"Albert\", \"Steven\"]\n",
    "\n",
    "import itertools\n",
    "\n",
    "def f_letter(x):\n",
    "    return x[0]\n",
    "names = [\"Alan\", \"Adam\", \"Wes\", \"Will\", \"Albert\", \"Steven\"]\n",
    "names = sorted(names,key=f_letter)\n",
    "for letter,names in itertools.groupby(names,f_letter):\n",
    "    print(letter,list(names))\n"
   ]
  },
  {
   "cell_type": "code",
   "execution_count": 11,
   "id": "e6c93e0c-19ab-4206-8f05-0c21f941f0e1",
   "metadata": {},
   "outputs": [],
   "source": [
    "# 9. Basic Exception Handling\n",
    "# Write a function safe_divide(a, b) that handles division by zero gracefully and returns a meaningful result.\n",
    "\n",
    "def safe_divide(a,b):\n",
    "    try:\n",
    "        return a/b\n",
    "    except ZeroDivisionError:\n",
    "        print(\"Divison by zero is not mathematicaly possible. cause it leads to infinite number of digits\")"
   ]
  }
 ],
 "metadata": {
  "kernelspec": {
   "display_name": "Python 3 (ipykernel)",
   "language": "python",
   "name": "python3"
  },
  "language_info": {
   "codemirror_mode": {
    "name": "ipython",
    "version": 3
   },
   "file_extension": ".py",
   "mimetype": "text/x-python",
   "name": "python",
   "nbconvert_exporter": "python",
   "pygments_lexer": "ipython3",
   "version": "3.13.5"
  }
 },
 "nbformat": 4,
 "nbformat_minor": 5
}
