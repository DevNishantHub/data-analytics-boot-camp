{
 "cells": [
  {
   "cell_type": "code",
   "execution_count": null,
   "id": "a4d78b77-ac35-4c1b-b293-9a96a4034a76",
   "metadata": {},
   "outputs": [],
   "source": [
    "#Data Structures\n",
    "    #Lists \n",
    "    #tuple\n",
    "    #set\n",
    "    #dictonary"
   ]
  },
  {
   "cell_type": "code",
   "execution_count": null,
   "id": "7ac7560c-f8ca-4ec7-a47c-d217dab3ea76",
   "metadata": {},
   "outputs": [],
   "source": [
    "#lists\n",
    "# -> Mutable\n",
    "# -> 0 Based Index \n",
    "# -> Hetrogeneous Data\n",
    "# -> Duplicates Allowed \n"
   ]
  },
  {
   "cell_type": "code",
   "execution_count": 17,
   "id": "4ebee10d-89ae-44b8-9777-b682c6d029ca",
   "metadata": {},
   "outputs": [
    {
     "name": "stdout",
     "output_type": "stream",
     "text": [
      "[1, 2, 3]\n",
      "[1, 2, 3, 1]\n",
      "[1, 2, 100, 3, 1]\n",
      "[1, 2, 100, 3, 1, 1000, 2000]\n",
      "[1, 2, 100, 3, 1, 1000] 2000\n",
      "[1, 2, 100, 1, 1000]\n",
      "[]\n",
      "1\n",
      "1\n",
      "[9, 8, 7, 6, 5, 4]\n",
      "[4, 5, 6, 7, 8, 9]\n",
      "[4, 5, 6, 7, 8, 9]\n"
     ]
    }
   ],
   "source": [
    "# Methods of list\n",
    "# -> append() : insert at the end\n",
    "# -> insert() : insert at specific location : insert(index, element)\n",
    "# -> extend() : add multiple items at last -> extend( [ item, item] )\n",
    "# -> pop() : remove last elemen and also returns\n",
    "# -> remove(item) : remove first match\n",
    "# -> clear : clear whole list\n",
    "# -> index(item) : get index of value\n",
    "# -> count(item) : how many times a item is repeated\n",
    "# -> sort() : sort acsending order -> sort(revers = True) -> desecnding order\n",
    "# -> reverse() : reverses the whole list\n",
    "# -> copy() : copys the entires list into another list a.copy(b) b is the copied list\n",
    "lst = [1,2,3]\n",
    "print(lst)\n",
    "lst.append(1)\n",
    "print(lst)\n",
    "lst.insert(2,100)\n",
    "print(lst)\n",
    "lst.extend([1000,2000])\n",
    "print(lst)\n",
    "removed_element = lst.pop()\n",
    "print(lst , removed_element)\n",
    "lst.remove(3)\n",
    "print(lst) \n",
    "lst.clear()\n",
    "print(lst)\n",
    "lst2 = [4,5,6,7,8,9]\n",
    "print(lst2.index(5))\n",
    "print(lst2.count(9))\n",
    "lst2.sort(reverse = True)\n",
    "print(lst2)\n",
    "lst2.reverse()\n",
    "print(lst2)\n",
    "lst3 =  lst2.copy()\n",
    "print(lst3)"
   ]
  },
  {
   "cell_type": "code",
   "execution_count": 18,
   "id": "b59919af-487b-483a-89d6-151525e0d365",
   "metadata": {},
   "outputs": [
    {
     "name": "stdin",
     "output_type": "stream",
     "text": [
      "Enter a number 1\n",
      "Enter a number 2\n",
      "Enter a number 3\n",
      "Enter a number 4\n",
      "Enter a number 5\n"
     ]
    },
    {
     "name": "stdout",
     "output_type": "stream",
     "text": [
      "[1, 2, 3, 4, 5]\n"
     ]
    }
   ],
   "source": [
    "#Practice Questions\n",
    "lst = []\n",
    "for i in range(1,6):\n",
    "    num = int(input(\"Enter a number\"))\n",
    "    lst.append(num)\n",
    "\n",
    "print(lst)"
   ]
  },
  {
   "cell_type": "code",
   "execution_count": 19,
   "id": "8413a2e4-874f-4ea8-9a17-91a7e59543df",
   "metadata": {},
   "outputs": [
    {
     "name": "stdout",
     "output_type": "stream",
     "text": [
      "[1, 2, 3, 4, 5, 6, 7, 8, 9, 10]\n"
     ]
    }
   ],
   "source": [
    "list1 = [1,2,3,4,5]\n",
    "list2 = [6,7,8,9,10]\n",
    "list1.extend(list2)\n",
    "\n",
    "print(list1)"
   ]
  },
  {
   "cell_type": "code",
   "execution_count": 20,
   "id": "bf3d1ffc-f5fa-4802-a996-2249d89c09f3",
   "metadata": {},
   "outputs": [
    {
     "name": "stdout",
     "output_type": "stream",
     "text": [
      "[10, 20, 25, 30, 40]\n"
     ]
    }
   ],
   "source": [
    "l = [10, 20, 30, 40]\n",
    "l.insert(2,25)\n",
    "print(l)"
   ]
  },
  {
   "cell_type": "code",
   "execution_count": 21,
   "id": "5a351e75-70ec-40a1-b4f1-2338a7966ead",
   "metadata": {},
   "outputs": [
    {
     "name": "stdout",
     "output_type": "stream",
     "text": [
      "[10, 30, 20, 40]\n"
     ]
    }
   ],
   "source": [
    "l = [10, 20, 30, 20, 40]\n",
    "l.remove(20)\n",
    "print(l)"
   ]
  },
  {
   "cell_type": "code",
   "execution_count": 23,
   "id": "508488d2-9f26-4dba-ae2f-29052b2fcd39",
   "metadata": {},
   "outputs": [
    {
     "name": "stdout",
     "output_type": "stream",
     "text": [
      "[1, 2, 3, 4]\n"
     ]
    }
   ],
   "source": [
    "li =  [1, 2, 3, 4, 5]\n",
    "li.pop()\n",
    "print(li)"
   ]
  },
  {
   "cell_type": "code",
   "execution_count": 24,
   "id": "06363146-cd81-4462-a1dd-8d1c3fafdc2e",
   "metadata": {},
   "outputs": [
    {
     "name": "stdout",
     "output_type": "stream",
     "text": [
      "2\n"
     ]
    }
   ],
   "source": [
    "list1 =  [5, 10, 15, 20, 25]\n",
    "print(list1.index(15))"
   ]
  },
  {
   "cell_type": "code",
   "execution_count": 25,
   "id": "674c2c86-3172-499a-bef0-c9a31c83dcfa",
   "metadata": {},
   "outputs": [
    {
     "name": "stdout",
     "output_type": "stream",
     "text": [
      "4\n"
     ]
    }
   ],
   "source": [
    "list1 = [1, 2, 2, 3, 2, 4, 2]\n",
    "print(list1.count(2))"
   ]
  },
  {
   "cell_type": "code",
   "execution_count": 26,
   "id": "3573f77e-e126-4b0e-9c24-a3f8b06af51b",
   "metadata": {},
   "outputs": [
    {
     "name": "stdout",
     "output_type": "stream",
     "text": [
      "[3, 5, 7, 10]\n",
      "[10, 7, 5, 3]\n"
     ]
    }
   ],
   "source": [
    "l1 = [10, 5, 7, 3]\n",
    "l1.sort()\n",
    "print(l1)\n",
    "l1.sort(reverse = True)\n",
    "print(l1)"
   ]
  },
  {
   "cell_type": "code",
   "execution_count": 27,
   "id": "654f4cb9-591f-4b06-91ca-5d0b8d3ceb8d",
   "metadata": {},
   "outputs": [
    {
     "name": "stdout",
     "output_type": "stream",
     "text": [
      "[5, 4, 3, 2, 1]\n"
     ]
    }
   ],
   "source": [
    "list1 =  [1, 2, 3, 4, 5]\n",
    "list1.reverse()\n",
    "print(list1)"
   ]
  },
  {
   "cell_type": "code",
   "execution_count": 28,
   "id": "e8fdaae0-2304-4f8b-bc1c-8eb9efeacf48",
   "metadata": {},
   "outputs": [
    {
     "name": "stdout",
     "output_type": "stream",
     "text": [
      "[1, 2, 3]\n",
      "[1, 2, 3, 4]\n",
      "[1, 2, 3]\n"
     ]
    }
   ],
   "source": [
    "\n",
    "list1 = [1, 2, 3]\n",
    "list2 = list1.copy()\n",
    "print(list2)\n",
    "list2.append(4)\n",
    "print(list2)\n",
    "print(list1)"
   ]
  },
  {
   "cell_type": "code",
   "execution_count": null,
   "id": "37a5537c-c297-45f9-9b7c-6dee6540dbea",
   "metadata": {},
   "outputs": [],
   "source": [
    "#list comprehension - > It is used to add logic inside a list"
   ]
  },
  {
   "cell_type": "code",
   "execution_count": null,
   "id": "13685915-65c5-417f-a94d-805a9539e809",
   "metadata": {},
   "outputs": [],
   "source": [
    "#tuple \n",
    "# -> round brackets -> ()\n",
    "#- > immutable : no modfication\n",
    "# -> count(item) , index(item) only two methods"
   ]
  },
  {
   "cell_type": "code",
   "execution_count": 29,
   "id": "ec93c7c8-a8e4-4190-87a7-12c859592795",
   "metadata": {},
   "outputs": [
    {
     "name": "stdout",
     "output_type": "stream",
     "text": [
      "1\n",
      "0\n"
     ]
    }
   ],
   "source": [
    "d = (\"a\",\"b\",\"c\",\"d\")\n",
    "print(d.count(\"a\"))\n",
    "print(d.index(\"a\"))"
   ]
  },
  {
   "cell_type": "code",
   "execution_count": 31,
   "id": "3e1a093a-c8ba-4291-8479-90db4b38aa8c",
   "metadata": {},
   "outputs": [
    {
     "name": "stdout",
     "output_type": "stream",
     "text": [
      "[2, 3]\n"
     ]
    }
   ],
   "source": [
    "list1 = [1,2,3,4,5,6,7,8,9,10]\n",
    "print(list1[1:3])"
   ]
  },
  {
   "cell_type": "code",
   "execution_count": 32,
   "id": "c704efc8-bb90-433d-9bf7-788eefb7f2ed",
   "metadata": {},
   "outputs": [
    {
     "name": "stdout",
     "output_type": "stream",
     "text": [
      "a\n",
      "b\n",
      "c\n",
      "d\n"
     ]
    }
   ],
   "source": [
    "d = (\"a\",\"b\",\"c\",\"d\")\n",
    "for i in d:\n",
    "    print(i)"
   ]
  },
  {
   "cell_type": "code",
   "execution_count": null,
   "id": "6ebc9e79-39cd-424d-bc17-8ea54823cedf",
   "metadata": {},
   "outputs": [],
   "source": [
    "#set -> it is an unordered collection of elements -> no indexing\n",
    "#methods \n",
    "# -> add() -> add element\n",
    "# -> update() -> value update\n",
    "# -> union() -> combines two set remove duplicates\n",
    "# -> pop() -> remove first element\n",
    "# -> remove() ->  remove specific element\n",
    "# -> clear() -> clears the element\n",
    "# -> intersection() -> returns common element\n",
    "# -> difference() -> the elements which are in one set not in other\n",
    "# -> symmetric_differenece :  \n",
    "# -> issubset() : check if the set is the sub set of the give set\n",
    "# -> isdisjoint : \n",
    "# -> superset() : check if the set is the parent set of the given set"
   ]
  },
  {
   "cell_type": "code",
   "execution_count": 35,
   "id": "b818b0b8-8dcc-4379-8ea4-07000dc305bd",
   "metadata": {},
   "outputs": [
    {
     "name": "stdout",
     "output_type": "stream",
     "text": [
      "{1, 2, 3, 4, 5, 6}\n"
     ]
    }
   ],
   "source": [
    "set1 = {1,2,3}\n",
    "set2 = {4,5,6}\n",
    "\n",
    "print(set1.union(set2))"
   ]
  },
  {
   "cell_type": "code",
   "execution_count": 43,
   "id": "fd0310e6-6c79-4749-8f29-1e07d9094b57",
   "metadata": {},
   "outputs": [
    {
     "name": "stdout",
     "output_type": "stream",
     "text": [
      "{1, 2, 3, 4, 5}\n",
      "{1, 2, 3, 4, 5, 6}\n",
      "{1, 2, 3, 4, 5, 6, 9}\n",
      "{2, 3, 4, 5, 6, 9}\n",
      "<class 'set'>\n",
      "{2, 3}\n"
     ]
    }
   ],
   "source": [
    "set1 = {1,2,3,4,5}\n",
    "print(set1)\n",
    "set1.add(6)\n",
    "print(set1)\n",
    "set1.update([9])\n",
    "print(set1)\n",
    "\n",
    "set1.pop()\n",
    "print(set1)\n",
    "set1.clear()\n",
    "print(set)\n",
    "set1 = {1,2,3,4,5}\n",
    "set2 = {2,3}\n",
    "print(set1.intersection(set2))"
   ]
  },
  {
   "cell_type": "code",
   "execution_count": null,
   "id": "e87acc1e-e748-4a6f-ba44-5502fdb71ba9",
   "metadata": {},
   "outputs": [],
   "source": [
    "# -> dictornaries -> it is a keys value pair \n",
    "# -> key cannot be duplicate \n",
    "# -> value can be duplicate\n",
    "# -> one key can have multiple keys \n",
    "# -> \n",
    "# -> \n",
    "#dict = { key1 : value1 , key 2 : value 2}\n"
   ]
  },
  {
   "cell_type": "code",
   "execution_count": null,
   "id": "d76e7725-c161-4b2e-be1f-cd0dd1161ec9",
   "metadata": {},
   "outputs": [],
   "source": [
    "#methods\n",
    "# -> get()      :\n",
    "# -> keys()     :  returns all keys\n",
    "# -> values()   : returns all values\n",
    "# -> items()    : \n",
    "# -> update()   : update the key \n",
    "# -> copy()     :  copy one dictionory into another\n",
    "\n",
    "# -> pop()      : delete last element\n",
    "# -> popitem()  : popitem -> specified element\n",
    "# -> clear()    :  clears the dictnories"
   ]
  },
  {
   "cell_type": "code",
   "execution_count": 44,
   "id": "1be5beea-1199-4529-880c-e23d20abcc3e",
   "metadata": {},
   "outputs": [
    {
     "ename": "_IncompleteInputError",
     "evalue": "incomplete input (2520049517.py, line 1)",
     "output_type": "error",
     "traceback": [
      "\u001b[1;36m  Cell \u001b[1;32mIn[44], line 1\u001b[1;36m\u001b[0m\n\u001b[1;33m    def fact():\u001b[0m\n\u001b[1;37m               ^\u001b[0m\n\u001b[1;31m_IncompleteInputError\u001b[0m\u001b[1;31m:\u001b[0m incomplete input\n"
     ]
    }
   ],
   "source": []
  },
  {
   "cell_type": "code",
   "execution_count": null,
   "id": "64b9d4d7-7db0-4ee5-a7af-c019aafc8d3c",
   "metadata": {},
   "outputs": [],
   "source": []
  }
 ],
 "metadata": {
  "kernelspec": {
   "display_name": "Python [conda env:base] *",
   "language": "python",
   "name": "conda-base-py"
  },
  "language_info": {
   "codemirror_mode": {
    "name": "ipython",
    "version": 3
   },
   "file_extension": ".py",
   "mimetype": "text/x-python",
   "name": "python",
   "nbconvert_exporter": "python",
   "pygments_lexer": "ipython3",
   "version": "3.13.5"
  }
 },
 "nbformat": 4,
 "nbformat_minor": 5
}
