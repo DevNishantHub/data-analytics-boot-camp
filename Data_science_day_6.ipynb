{
 "cells": [
  {
   "cell_type": "code",
   "execution_count": 14,
   "id": "481218db-6423-4944-a006-152b915c6cd2",
   "metadata": {},
   "outputs": [
    {
     "name": "stdout",
     "output_type": "stream",
     "text": [
      "Helloworld\n",
      "HELLOWORLD\n",
      "helloworld\n",
      "Helloworld\n",
      "HELLOwORLD\n",
      "hello\n",
      "  hello\n",
      "hello   \n",
      "hellop\n",
      "['helloWorld']\n",
      "1\n",
      "1\n",
      "False\n",
      "True\n",
      "False\n",
      "True\n",
      "\n"
     ]
    }
   ],
   "source": [
    "s = \"helloWorld\"\n",
    "# captialize first letter\n",
    "print(s.capitalize())\n",
    "#upper case\n",
    "print(s.upper())\n",
    "#lower case\n",
    "print(s.lower())\n",
    "# title\n",
    "print(s.title())\n",
    "# SWAP CASE\n",
    "print(s.swapcase())\n",
    "# strip\n",
    "st = \"  hello   \"\n",
    "print(st.strip())\n",
    "print(st.rstrip())\n",
    "print(st.lstrip())\n",
    "\n",
    "# replace\n",
    "print(s.replace(\"World\",\"p\"))\n",
    "\n",
    "print(s.split(\".\"))\n",
    "\n",
    "print(s.index('e'))\n",
    "print(s.count('e'))\n",
    "print(s.startswith('e'))\n",
    "print(s.isalpha())\n",
    "print(s.isdigit())\n",
    "print(s.isalnum())\n",
    "print()\n"
   ]
  },
  {
   "cell_type": "code",
   "execution_count": 16,
   "id": "f482a9cc-f904-48d9-a503-58354dcbab57",
   "metadata": {},
   "outputs": [
    {
     "name": "stdout",
     "output_type": "stream",
     "text": [
      "hello i am Nishant my age is 18\n"
     ]
    }
   ],
   "source": [
    "\n",
    "name= \"Nishant\"\n",
    "age= 18\n",
    "print(\"hello i am {} my age is {}\".format(name,age))"
   ]
  },
  {
   "cell_type": "code",
   "execution_count": 23,
   "id": "14277b0a-16b3-4ac7-8d31-884d68fedf48",
   "metadata": {},
   "outputs": [
    {
     "ename": "SyntaxError",
     "evalue": "invalid syntax (653685159.py, line 1)",
     "output_type": "error",
     "traceback": [
      "\u001b[1;36m  Cell \u001b[1;32mIn[23], line 1\u001b[1;36m\u001b[0m\n\u001b[1;33m    global balance_amt = 0\u001b[0m\n\u001b[1;37m                       ^\u001b[0m\n\u001b[1;31mSyntaxError\u001b[0m\u001b[1;31m:\u001b[0m invalid syntax\n"
     ]
    }
   ],
   "source": [
    "balance_amt = 0\n",
    "\n",
    "def deposit(amt):\n",
    "    global balance_amt\n",
    "    while True:\n",
    "        if amt > 0:\n",
    "            balance_amt += amt\n",
    "            print(f\"Deposited {amt}. New balance: {balance_amt}\")\n",
    "            break\n",
    "        else:\n",
    "            print(\"Invalid deposit amount\")\n",
    "            amt = int(input(\"Enter a valid amount to deposit: \"))\n",
    "\n",
    "def withdraw(amt):\n",
    "    global balance_amt\n",
    "    while True:\n",
    "        if amt > 0 and amt <= balance_amt:\n",
    "            balance_amt -= amt\n",
    "            print(f\"Withdrew {amt}. New balance: {balance_amt}\")\n",
    "            break\n",
    "        elif amt > balance_amt:\n",
    "            print(\"Cannot withdraw more than the current balance\")\n",
    "            amt = int(input(\"Enter a smaller amount to withdraw: \"))\n",
    "        else:\n",
    "            print(\"Invalid withdrawal amount\")\n",
    "            amt = int(input(\"Enter a valid amount to withdraw: \"))\n",
    "\n",
    "def balance():\n",
    "    print(f\"Balance in your account is ₹{balance_amt}\")\n",
    "\n",
    "while True:\n",
    "    print(\"Enter 1 for Balance Check\")\n",
    "    print(\"Enter 2 for Withdraw\")\n",
    "    print(\"Enter 3 for Deposit\")\n",
    "    print(\"Enter 4 to Exit\")\n",
    "\n",
    "    choice = int(input(\"Enter your choice: \"))\n",
    "\n",
    "    if choice == 1:\n",
    "        balance()\n",
    "    elif choice == 2:\n",
    "        amt = int(input(\"Enter amount to withdraw: \"))\n",
    "        withdraw(amt)\n",
    "    elif choice == 3:\n",
    "        amt = int(input(\"Enter amount to deposit: \"))\n",
    "        deposit(amt)\n",
    "    else:\n",
    "        print(\"Invalid input or choice, please try again.\")\n"
   ]
  },
  {
   "cell_type": "code",
   "execution_count": 24,
   "id": "26b39fd8-7b0f-47fd-90fc-9222b90f05c1",
   "metadata": {},
   "outputs": [
    {
     "data": {
      "text/plain": [
       "dict"
      ]
     },
     "execution_count": 24,
     "metadata": {},
     "output_type": "execute_result"
    }
   ],
   "source": [
    "type({})"
   ]
  },
  {
   "cell_type": "code",
   "execution_count": 25,
   "id": "4bd4de2e-ec09-4f11-8679-921719e4ff04",
   "metadata": {},
   "outputs": [
    {
     "data": {
      "text/plain": [
       "True"
      ]
     },
     "execution_count": 25,
     "metadata": {},
     "output_type": "execute_result"
    }
   ],
   "source": [
    "\" \".isspace()"
   ]
  },
  {
   "cell_type": "code",
   "execution_count": 1,
   "id": "74ceaf6b-b9fc-47ad-a0fd-46f0eea330f6",
   "metadata": {},
   "outputs": [],
   "source": [
    "# open file Open()\n",
    "# Read file read() , readline() , readlines()\n",
    "# write files write() , writelines()\n",
    "#Close file close()\n",
    "#Delete files os.remove()"
   ]
  },
  {
   "cell_type": "code",
   "execution_count": null,
   "id": "fbfc57c4-641d-4449-bf2a-cedb6cda9699",
   "metadata": {},
   "outputs": [],
   "source": [
    "# modes of file handling\n",
    "# 'w' write\n",
    "# 'r' read\n",
    "# 'x' create\n",
    "# 'a' Append\n",
    "# 'b' binary mode\n",
    "# 't' Text mode"
   ]
  },
  {
   "cell_type": "code",
   "execution_count": null,
   "id": "7d7517fb-a451-4ce2-857b-354e3e6e1de9",
   "metadata": {},
   "outputs": [],
   "source": [
    "class Bank:\n",
    "    def __init__(self):\n",
    "        self.balance_amt = 0\n",
    "\n",
    "    def deposit(self, amt):\n",
    "        while True:\n",
    "            if amt > 0:\n",
    "                self.balance_amt += amt\n",
    "                print(f\"Deposited {amt}. New balance: {self.balance_amt}\")\n",
    "                break\n",
    "            else:\n",
    "                print(\"Invalid deposit amount\")\n",
    "                amt = int(input(\"Enter a valid amount to deposit: \"))\n",
    "\n",
    "    def withdraw(self, amt):\n",
    "        while True:\n",
    "            if amt > 0 and amt <= self.balance_amt:\n",
    "                self.balance_amt -= amt\n",
    "                print(f\"Withdrew {amt}. New balance: {self.balance_amt}\")\n",
    "                break\n",
    "            elif amt > self.balance_amt:\n",
    "                print(\"Cannot withdraw more than the current balance\")\n",
    "                amt = int(input(\"Enter a smaller amount to withdraw: \"))\n",
    "            else:\n",
    "                print(\"Invalid withdrawal amount\")\n",
    "                amt = int(input(\"Enter a valid amount to withdraw: \"))\n",
    "\n",
    "    def balance(self):\n",
    "        print(f\"Balance in your account is {self.balance_amt}\")\n",
    "\n",
    "\n",
    "bank_obj = Bank()\n",
    "\n",
    "while True:\n",
    "    print(\"Enter 1 for Balance Check\")\n",
    "    print(\"Enter 2 for Withdraw\")\n",
    "    print(\"Enter 3 for Deposit\")\n",
    "    print(\"Enter 4 to Exit\")\n",
    "\n",
    "    choice = int(input(\"Enter your choice: \"))\n",
    "\n",
    "    if choice == 1:\n",
    "        bank_obj.balance()\n",
    "    elif choice == 2:\n",
    "        amt = int(input(\"Enter amount to withdraw: \"))\n",
    "        bank_obj.withdraw(amt)\n",
    "    elif choice == 3:\n",
    "        amt = int(input(\"Enter amount to deposit: \"))\n",
    "        bank_obj.deposit(amt)\n",
    "    elif choice == 4:\n",
    "        print(\"Exiting\")\n",
    "        break\n",
    "    else:\n",
    "        print(\"Invalid input or choice, please try again.\")\n",
    "        \n"
   ]
  },
  {
   "cell_type": "code",
   "execution_count": 2,
   "id": "37793822-6bae-4897-b724-d234db8c3cf2",
   "metadata": {},
   "outputs": [
    {
     "name": "stdout",
     "output_type": "stream",
     "text": [
      "120\n"
     ]
    }
   ],
   "source": [
    "def facto(n):\n",
    "    if n in (1,0):\n",
    "        return 1\n",
    "    return n*(facto(n-1))\n",
    "print(facto(5))"
   ]
  },
  {
   "cell_type": "code",
   "execution_count": null,
   "id": "70f22211-807d-4177-be4d-1fc6b89a7c55",
   "metadata": {},
   "outputs": [],
   "source": [
    "def is_prime(n):\n",
    "    if n <= 1:\n",
    "        return False\n",
    "    for i in range(2, n):\n",
    "        if n % i == 0:\n",
    "            return False\n",
    "    return True\n"
   ]
  },
  {
   "cell_type": "code",
   "execution_count": 3,
   "id": "f7f305df-4325-498d-8d33-3aec1fc94a32",
   "metadata": {},
   "outputs": [
    {
     "name": "stdout",
     "output_type": "stream",
     "text": [
      "2\n",
      "4\n",
      "6\n",
      "8\n",
      "10\n"
     ]
    }
   ],
   "source": [
    "def printnum(numbers):\n",
    "    for num in numbers:\n",
    "        if num % 2 == 0:\n",
    "            print(num)\n",
    "\n",
    "numbers = [1, 2, 3, 4, 5, 6, 7, 8, 9, 10]\n",
    "\n",
    "printnum(numbers)\n"
   ]
  },
  {
   "cell_type": "code",
   "execution_count": 9,
   "id": "00bc9fce-3c5d-4582-8934-46a236079e25",
   "metadata": {},
   "outputs": [
    {
     "name": "stdout",
     "output_type": "stream",
     "text": [
      "Average is  25.0\n"
     ]
    }
   ],
   "source": [
    "def findavg(*nums):\n",
    "    if len(nums) == 0:\n",
    "        return 0\n",
    "    total = 0\n",
    "    for num in nums:\n",
    "        total += num\n",
    "    avg = total / len(nums)\n",
    "    return avg \n",
    "res = findavg(10, 20, 30, 40)\n",
    "print(\"Average is \",res)\n"
   ]
  },
  {
   "cell_type": "code",
   "execution_count": 7,
   "id": "7a8c8a12-3ef6-4fa3-be83-69c526a55893",
   "metadata": {},
   "outputs": [
    {
     "ename": "UnsupportedOperation",
     "evalue": "not readable",
     "output_type": "error",
     "traceback": [
      "\u001b[1;31m---------------------------------------------------------------------------\u001b[0m",
      "\u001b[1;31mUnsupportedOperation\u001b[0m                      Traceback (most recent call last)",
      "Cell \u001b[1;32mIn[7], line 8\u001b[0m\n\u001b[0;32m      5\u001b[0m     \u001b[38;5;28;01mreturn\u001b[39;00m \u001b[38;5;28mlen\u001b[39m(y)\n\u001b[0;32m      7\u001b[0m z \u001b[38;5;241m=\u001b[39m \u001b[38;5;124m\"\u001b[39m\u001b[38;5;124msample.txt\u001b[39m\u001b[38;5;124m\"\u001b[39m\n\u001b[1;32m----> 8\u001b[0m n \u001b[38;5;241m=\u001b[39m countline(z)\n\u001b[0;32m      9\u001b[0m \u001b[38;5;28mprint\u001b[39m(\u001b[38;5;124m\"\u001b[39m\u001b[38;5;124mlines:\u001b[39m\u001b[38;5;124m\"\u001b[39m, n)\n",
      "Cell \u001b[1;32mIn[7], line 3\u001b[0m, in \u001b[0;36mcountline\u001b[1;34m(f)\u001b[0m\n\u001b[0;32m      1\u001b[0m \u001b[38;5;28;01mdef\u001b[39;00m\u001b[38;5;250m \u001b[39m\u001b[38;5;21mcountline\u001b[39m(f):\n\u001b[0;32m      2\u001b[0m     x \u001b[38;5;241m=\u001b[39m \u001b[38;5;28mopen\u001b[39m(f, \u001b[38;5;124m'\u001b[39m\u001b[38;5;124mw\u001b[39m\u001b[38;5;124m'\u001b[39m)\n\u001b[1;32m----> 3\u001b[0m     y \u001b[38;5;241m=\u001b[39m x\u001b[38;5;241m.\u001b[39mreadlines()\n\u001b[0;32m      4\u001b[0m     x\u001b[38;5;241m.\u001b[39mclose()\n\u001b[0;32m      5\u001b[0m     \u001b[38;5;28;01mreturn\u001b[39;00m \u001b[38;5;28mlen\u001b[39m(y)\n",
      "\u001b[1;31mUnsupportedOperation\u001b[0m: not readable"
     ]
    }
   ],
   "source": [
    "def countline(f):\n",
    "    x = open(f, 'r')\n",
    "    y = x.readlines()\n",
    "    x.close()\n",
    "    return len(y)\n",
    "\n",
    "z = \"sample.txt\"\n",
    "n = countline(z)\n",
    "print(\"lines:\", n)\n"
   ]
  },
  {
   "cell_type": "code",
   "execution_count": 11,
   "id": "5695f4da-6b05-42d9-a2a2-1008736589a5",
   "metadata": {},
   "outputs": [
    {
     "name": "stdout",
     "output_type": "stream",
     "text": [
      "brand: toyota\n",
      "model: fortuner\n",
      "year: 2020\n"
     ]
    }
   ],
   "source": [
    "class Car:\n",
    "    def __init__(self, brands, model, year):\n",
    "        self.brands = brands\n",
    "        self.model = model\n",
    "        self.year = year\n",
    "\n",
    "    def showdetails(self):\n",
    "        print(\"brand:\",self.brands)\n",
    "        print(\"model:\",  self.model)\n",
    "        print(\"year:\", self.year)\n",
    "\n",
    "mycar = Car(\"toyota\", \"fortuner\", 2020)\n",
    "mycar.showdetails()\n"
   ]
  },
  {
   "cell_type": "code",
   "execution_count": 16,
   "id": "f47da58d-3ff7-46ad-b641-f74e69ed608c",
   "metadata": {},
   "outputs": [
    {
     "name": "stdout",
     "output_type": "stream",
     "text": [
      "0\n",
      "1\n",
      "1\n",
      "2\n",
      "3\n",
      "5\n",
      "8\n",
      "13\n",
      "21\n",
      "34\n",
      "55\n",
      "89\n",
      "144\n",
      "233\n",
      "377\n"
     ]
    }
   ],
   "source": [
    "def fibo(n):\n",
    "    if n<=0:\n",
    "        return 0\n",
    "    elif n==1:\n",
    "        return 1\n",
    "    else:\n",
    "        return fibo(n-1)+fibo(n-2)\n",
    "\n",
    "n=15\n",
    "for i in range(n):\n",
    "    print(fibo(i))\n"
   ]
  },
  {
   "cell_type": "code",
   "execution_count": 17,
   "id": "0901a8cd-f04e-43a4-bc7a-83d544ac62ff",
   "metadata": {},
   "outputs": [
    {
     "name": "stdout",
     "output_type": "stream",
     "text": [
      "olleh\n"
     ]
    }
   ],
   "source": [
    "def rev(st):\n",
    "    return st[::-1]\n",
    "print(rev(\"hello\"))"
   ]
  },
  {
   "cell_type": "raw",
   "id": "03b91c72-42f6-40da-a0fb-c344bec8be2e",
   "metadata": {},
   "source": [
    "\n"
   ]
  },
  {
   "cell_type": "code",
   "execution_count": 18,
   "id": "bf726109-d5fc-4eca-aba5-dcbf85edde00",
   "metadata": {},
   "outputs": [
    {
     "name": "stdout",
     "output_type": "stream",
     "text": [
      "2\n"
     ]
    }
   ],
   "source": [
    "def countv(st):\n",
    "    count = 0\n",
    "    for i in tuple(st):\n",
    "        if i in ('a','e','i','o','u'):\n",
    "            count += 1\n",
    "    return count\n",
    "print(countv(\"hello\"))"
   ]
  },
  {
   "cell_type": "code",
   "execution_count": 19,
   "id": "471eb374-37a8-40e0-b597-c1e2187c2ba1",
   "metadata": {},
   "outputs": [
    {
     "name": "stdout",
     "output_type": "stream",
     "text": [
      "True\n"
     ]
    }
   ],
   "source": [
    "def p(x):\n",
    "    if x==x[::-1]:\n",
    "        return True\n",
    "    else:\n",
    "        return False\n",
    "\n",
    "s = \"madam\"\n",
    "print(p(s))\n"
   ]
  },
  {
   "cell_type": "code",
   "execution_count": 21,
   "id": "3939865e-1aa2-4b13-9312-f8891415068b",
   "metadata": {},
   "outputs": [
    {
     "name": "stdout",
     "output_type": "stream",
     "text": [
      "H : 1\n",
      "e : 1\n",
      "l : 3\n",
      "l : 3\n",
      "o : 2\n",
      "  : 1\n",
      "W : 1\n",
      "o : 2\n",
      "r : 1\n",
      "l : 3\n",
      "d : 1\n",
      "None\n"
     ]
    }
   ],
   "source": [
    "def freq(n):\n",
    "    for i in n:\n",
    "        print(i,\":\",n.count(i))\n",
    "\n",
    "print(freq(\"Hello World\"))"
   ]
  },
  {
   "cell_type": "code",
   "execution_count": null,
   "id": "a5dcee8e-c8a3-4acf-839c-341b9cf0e24a",
   "metadata": {},
   "outputs": [],
   "source": [
    "def keyc(d1 , char):\n",
    "    if d1.get(char):\n",
    "        print(\"Key exists\")\n",
    "    else:\n",
    "        print(\"Key does not exists\")\n",
    "\n",
    "\n",
    "dict1 = {1:\"A\", 2:\"B\" , 3 : \"C\"}\n",
    "keyc(dict1,6)"
   ]
  },
  {
   "cell_type": "code",
   "execution_count": null,
   "id": "a0159e2c-e388-489b-a194-5d0d76ff98d9",
   "metadata": {},
   "outputs": [],
   "source": [
    "class Person:\n",
    "    def __init__(self, name):\n",
    "        self.name=name\n",
    "        print(f\"Constructor called. Hello,{self.name}!\")\n",
    "\n",
    "    def __del__(self):\n",
    "        print(f\"Destructor called. Goodbye,{self.name}!\")\n",
    "p1=Person(\"Nishant\")\n",
    "del p1\n"
   ]
  },
  {
   "cell_type": "code",
   "execution_count": 22,
   "id": "0042d208-69ff-4a27-b198-551a9a8fe9c2",
   "metadata": {},
   "outputs": [
    {
     "ename": "FileNotFoundError",
     "evalue": "[Errno 2] No such file or directory: 'file.txt'",
     "output_type": "error",
     "traceback": [
      "\u001b[1;31m---------------------------------------------------------------------------\u001b[0m",
      "\u001b[1;31mFileNotFoundError\u001b[0m                         Traceback (most recent call last)",
      "Cell \u001b[1;32mIn[22], line 1\u001b[0m\n\u001b[1;32m----> 1\u001b[0m f \u001b[38;5;241m=\u001b[39m \u001b[38;5;28mopen\u001b[39m(\u001b[38;5;124m\"\u001b[39m\u001b[38;5;124mfile.txt\u001b[39m\u001b[38;5;124m\"\u001b[39m,\u001b[38;5;124m\"\u001b[39m\u001b[38;5;124mr\u001b[39m\u001b[38;5;124m\"\u001b[39m)\n\u001b[0;32m      2\u001b[0m \u001b[38;5;28;01mfor\u001b[39;00m l \u001b[38;5;129;01min\u001b[39;00m f:\n\u001b[0;32m      3\u001b[0m     \u001b[38;5;28;01mif\u001b[39;00m l\u001b[38;5;241m.\u001b[39mstartswith(\u001b[38;5;124m\"\u001b[39m\u001b[38;5;124mA\u001b[39m\u001b[38;5;124m\"\u001b[39m):\n",
      "File \u001b[1;32m~\\anaconda3\\Lib\\site-packages\\IPython\\core\\interactiveshell.py:324\u001b[0m, in \u001b[0;36m_modified_open\u001b[1;34m(file, *args, **kwargs)\u001b[0m\n\u001b[0;32m    317\u001b[0m \u001b[38;5;28;01mif\u001b[39;00m file \u001b[38;5;129;01min\u001b[39;00m {\u001b[38;5;241m0\u001b[39m, \u001b[38;5;241m1\u001b[39m, \u001b[38;5;241m2\u001b[39m}:\n\u001b[0;32m    318\u001b[0m     \u001b[38;5;28;01mraise\u001b[39;00m \u001b[38;5;167;01mValueError\u001b[39;00m(\n\u001b[0;32m    319\u001b[0m         \u001b[38;5;124mf\u001b[39m\u001b[38;5;124m\"\u001b[39m\u001b[38;5;124mIPython won\u001b[39m\u001b[38;5;124m'\u001b[39m\u001b[38;5;124mt let you open fd=\u001b[39m\u001b[38;5;132;01m{\u001b[39;00mfile\u001b[38;5;132;01m}\u001b[39;00m\u001b[38;5;124m by default \u001b[39m\u001b[38;5;124m\"\u001b[39m\n\u001b[0;32m    320\u001b[0m         \u001b[38;5;124m\"\u001b[39m\u001b[38;5;124mas it is likely to crash IPython. If you know what you are doing, \u001b[39m\u001b[38;5;124m\"\u001b[39m\n\u001b[0;32m    321\u001b[0m         \u001b[38;5;124m\"\u001b[39m\u001b[38;5;124myou can use builtins\u001b[39m\u001b[38;5;124m'\u001b[39m\u001b[38;5;124m open.\u001b[39m\u001b[38;5;124m\"\u001b[39m\n\u001b[0;32m    322\u001b[0m     )\n\u001b[1;32m--> 324\u001b[0m \u001b[38;5;28;01mreturn\u001b[39;00m io_open(file, \u001b[38;5;241m*\u001b[39margs, \u001b[38;5;241m*\u001b[39m\u001b[38;5;241m*\u001b[39mkwargs)\n",
      "\u001b[1;31mFileNotFoundError\u001b[0m: [Errno 2] No such file or directory: 'file.txt'"
     ]
    }
   ],
   "source": [
    "f = open(\"file.txt\",\"r\")\n",
    "for l in f:\n",
    "    if l.startswith(\"A\"):\n",
    "        print(l)\n",
    "f.close()\n"
   ]
  },
  {
   "cell_type": "code",
   "execution_count": 24,
   "id": "a11639cc-2b62-4c6d-abfd-97648f24fd03",
   "metadata": {},
   "outputs": [
    {
     "name": "stdout",
     "output_type": "stream",
     "text": [
      "Constructor called. Hello,Nishant!\n",
      "Destructor called. Goodbye,Nishant!\n"
     ]
    }
   ],
   "source": [
    "class Person:\n",
    "    def __init__(self, name):\n",
    "        self.name=name\n",
    "        print(f\"Constructor called. Hello,{self.name}!\")\n",
    "\n",
    "    def __del__(self):\n",
    "        print(f\"Destructor called. Goodbye,{self.name}!\")\n",
    "p1=Person(\"Nishant\")\n",
    "del p1\n"
   ]
  },
  {
   "cell_type": "code",
   "execution_count": null,
   "id": "6ecc16ed-1668-471a-afb6-5c14757c27fa",
   "metadata": {},
   "outputs": [],
   "source": []
  }
 ],
 "metadata": {
  "kernelspec": {
   "display_name": "Python 3 (ipykernel)",
   "language": "python",
   "name": "python3"
  },
  "language_info": {
   "codemirror_mode": {
    "name": "ipython",
    "version": 3
   },
   "file_extension": ".py",
   "mimetype": "text/x-python",
   "name": "python",
   "nbconvert_exporter": "python",
   "pygments_lexer": "ipython3",
   "version": "3.13.5"
  }
 },
 "nbformat": 4,
 "nbformat_minor": 5
}
