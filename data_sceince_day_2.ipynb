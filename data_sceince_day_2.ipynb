{
 "cells": [
  {
   "cell_type": "code",
   "execution_count": 4,
   "id": "f9a17caf-d318-4b62-85a2-0566e1f90482",
   "metadata": {},
   "outputs": [
    {
     "name": "stdout",
     "output_type": "stream",
     "text": [
      "<class 'float'>\n"
     ]
    }
   ],
   "source": [
    "x = 10\n",
    "y = float(x)\n",
    "print(type(y))"
   ]
  },
  {
   "cell_type": "code",
   "execution_count": 14,
   "id": "4c82a85d-6b2c-4f8f-9fb4-23aba049efa1",
   "metadata": {},
   "outputs": [
    {
     "name": "stdin",
     "output_type": "stream",
     "text": [
      "enter product name milk\n",
      "Enter quantity 56\n",
      "enter price 2.3\n"
     ]
    },
    {
     "name": "stdout",
     "output_type": "stream",
     "text": [
      "x----------------------------x\n",
      " total bill: \n",
      " milk : 56 x 2.3 = 128.79999999999998\n"
     ]
    }
   ],
   "source": [
    "#Bill calculater\n",
    "prod = input(\"enter product name\")\n",
    "quantity = int(input(\"Enter quantity\"))\n",
    "price = float(input(\"enter price\"))\n",
    "\n",
    "print(f\"x----------------------------x\\n total bill: \\n {prod} : {quantity} x {price} = {quantity * price}\")"
   ]
  },
  {
   "cell_type": "code",
   "execution_count": 15,
   "id": "ce68d307-3edb-4d93-b8a8-33bd146e8225",
   "metadata": {},
   "outputs": [
    {
     "name": "stdin",
     "output_type": "stream",
     "text": [
      "Enter your number :  10\n"
     ]
    },
    {
     "name": "stdout",
     "output_type": "stream",
     "text": [
      "your number if positive\n"
     ]
    }
   ],
   "source": [
    "num = int(input(\"Enter your number : \"))\n",
    "if num == 0:\n",
    "    print(\"your number is 0\")\n",
    "elif num > 0:\n",
    "    print(\"your number if positive\")\n",
    "else:\n",
    "    print(\"your number if negative\")"
   ]
  },
  {
   "cell_type": "code",
   "execution_count": 17,
   "id": "94a7ecf4-936e-4690-b6e2-4b83541f70cb",
   "metadata": {},
   "outputs": [
    {
     "name": "stdin",
     "output_type": "stream",
     "text": [
      "Enter your age :  8\n"
     ]
    },
    {
     "name": "stdout",
     "output_type": "stream",
     "text": [
      "Not Eligible to vote\n"
     ]
    }
   ],
   "source": [
    "age = int(input(\"Enter your age : \"))\n",
    "if age >= 18:\n",
    "    print(\"Eligible to vote\")\n",
    "else:\n",
    "    print(\"Not Eligible to vote\")"
   ]
  },
  {
   "cell_type": "code",
   "execution_count": 19,
   "id": "aa6cec3b-3265-473e-b43e-66ddb229715e",
   "metadata": {},
   "outputs": [
    {
     "name": "stdin",
     "output_type": "stream",
     "text": [
      "Enter your number :  127\n"
     ]
    },
    {
     "name": "stdout",
     "output_type": "stream",
     "text": [
      "your number if odd\n"
     ]
    }
   ],
   "source": [
    "num = int(input(\"Enter your number : \"))\n",
    "if num%2 == 0:\n",
    "    print(\"your number is even\")\n",
    "else:\n",
    "    print(\"your number if odd\")"
   ]
  },
  {
   "cell_type": "code",
   "execution_count": 21,
   "id": "0191d29a-b042-4639-a7b9-58acc03a07e9",
   "metadata": {},
   "outputs": [
    {
     "name": "stdin",
     "output_type": "stream",
     "text": [
      "enter your string hh\n"
     ]
    },
    {
     "name": "stdout",
     "output_type": "stream",
     "text": [
      "lenth is not greater then 5\n"
     ]
    }
   ],
   "source": [
    "somestring = input(\"enter your string\")\n",
    "if len(somestring) > 5:\n",
    "    print(\"length is greater then 5\")\n",
    "else:\n",
    "    print(\"length is not greater then 5\")"
   ]
  },
  {
   "cell_type": "code",
   "execution_count": 1,
   "id": "43e673d9-6593-4bea-83e4-cbbb46018b2c",
   "metadata": {},
   "outputs": [
    {
     "name": "stdin",
     "output_type": "stream",
     "text": [
      "Enter your number :  2\n"
     ]
    },
    {
     "name": "stdout",
     "output_type": "stream",
     "text": [
      "fail\n"
     ]
    }
   ],
   "source": [
    "marks = int(input(\"Enter your number : \"))\n",
    "if marks >= 40:\n",
    "    print(\"pass\")\n",
    "else:\n",
    "    print(\"fail\")"
   ]
  },
  {
   "cell_type": "code",
   "execution_count": 9,
   "id": "d1b813db-d77b-4d25-a328-737e01ea6067",
   "metadata": {},
   "outputs": [
    {
     "name": "stdin",
     "output_type": "stream",
     "text": [
      "enter month name 123\n"
     ]
    },
    {
     "name": "stdout",
     "output_type": "stream",
     "text": [
      "invaild input\n"
     ]
    }
   ],
   "source": [
    "month = input(\"enter month name\").lower()\n",
    "if month in ( \"november\" ,  \"december\" , \"january\"):\n",
    "    print(\"Weather is winter\")\n",
    "elif month in (\"februray\" , \"march\" , \"april\"):\n",
    "    print(\"Weather is spring\")\n",
    "elif month in (\"may\" , \"june\" , \"july\"):\n",
    "    print(\"Weather is summer\")\n",
    "elif month in (\"august\" , \"september\" , \"november\"):\n",
    "    print(\"Weather is autumn\")\n",
    "else:\n",
    "    print(\"invaild input\")\n"
   ]
  },
  {
   "cell_type": "code",
   "execution_count": null,
   "id": "a115359c-04c0-46b3-a16d-ac0537630449",
   "metadata": {},
   "outputs": [],
   "source": []
  },
  {
   "cell_type": "code",
   "execution_count": 11,
   "id": "762eeb7b-ff3d-4be4-8b65-f6e470f4a869",
   "metadata": {},
   "outputs": [
    {
     "name": "stdin",
     "output_type": "stream",
     "text": [
      "enter your vechile type:  car\n"
     ]
    },
    {
     "name": "stdout",
     "output_type": "stream",
     "text": [
      "your car expires in 15 year\n"
     ]
    }
   ],
   "source": [
    "vechile = input(\"enter your vechile type: \").lower()\n",
    "if vechile == \"car\":\n",
    "    print(\"your car expires in 15 year\")\n",
    "elif vechile == \"bike\":\n",
    "    print(\"your bike expires in 10 year\")\n",
    "if vechile == \"truck\":\n",
    "    print(\"your truck expires in 20 year\")\n",
    "    \n",
    "    "
   ]
  },
  {
   "cell_type": "code",
   "execution_count": 12,
   "id": "a6d231ed-6ab4-4ab4-b92f-cee43c3cd661",
   "metadata": {},
   "outputs": [
    {
     "name": "stdin",
     "output_type": "stream",
     "text": [
      "Enter your age :  14\n"
     ]
    },
    {
     "name": "stdout",
     "output_type": "stream",
     "text": [
      "teen\n"
     ]
    }
   ],
   "source": [
    "age = int(input(\"Enter your age : \"))\n",
    "if age < 13:\n",
    "    print(\"Child\")\n",
    "elif age < 18:\n",
    "    print(\"teen\")\n",
    "else:\n",
    "    print(\"adult\")"
   ]
  },
  {
   "cell_type": "code",
   "execution_count": 13,
   "id": "d9d17540-b9ed-42c9-9bd3-bd53caded488",
   "metadata": {},
   "outputs": [
    {
     "name": "stdin",
     "output_type": "stream",
     "text": [
      "enter your num 16\n"
     ]
    },
    {
     "name": "stdout",
     "output_type": "stream",
     "text": [
      "Number is greater then 10 and even\n"
     ]
    }
   ],
   "source": [
    "num = int(input(\"enter your num\"))\n",
    "if num%2==0:\n",
    "    if num > 10:\n",
    "        print(\"Number is greater then 10 and even\")\n",
    "    else:\n",
    "        print(\"Number is even but Not greater then 10\")\n",
    "else:\n",
    "    print(\"Number is odd\")\n",
    "\n"
   ]
  },
  {
   "cell_type": "code",
   "execution_count": null,
   "id": "f12ffc99-ae94-49f2-83a8-48b211979544",
   "metadata": {},
   "outputs": [],
   "source": [
    "marks = int(input(\"Enter your number : \"))\n",
    "if marks > 90:\n",
    "    print(\"A\")\n",
    "elif marks > 75:\n",
    "    print(\"B\")\n",
    "elif marks >60:\n",
    "    print(\"C\")\n",
    "else:\n",
    "    print(\"Fail\")"
   ]
  },
  {
   "cell_type": "code",
   "execution_count": 17,
   "id": "6a0cc1a9-7fd7-4271-a7e3-bf241a8a99e8",
   "metadata": {},
   "outputs": [
    {
     "name": "stdin",
     "output_type": "stream",
     "text": [
      "input 1st number 25\n",
      "input 2nd number 12\n",
      "input 3rd number 32\n"
     ]
    },
    {
     "name": "stdout",
     "output_type": "stream",
     "text": [
      "C is greatest\n"
     ]
    }
   ],
   "source": [
    "a = input(\"input 1st number\")\n",
    "b = input(\"input 2nd number\")\n",
    "c = input(\"input 3rd number\")\n",
    "\n",
    "if a>b:\n",
    "    if a>c:\n",
    "        print(\"A is greatest\")\n",
    "    elif c>a:\n",
    "        print(\"C is greatest\")\n",
    "else:\n",
    "    print(\"B is greatest\")"
   ]
  },
  {
   "cell_type": "code",
   "execution_count": null,
   "id": "914aa377-473f-4e25-a677-d1bc2b99d1cf",
   "metadata": {},
   "outputs": [],
   "source": [
    "num = int(input(\"enter num\"))\n",
    "i=1\n",
    "while(i<11):\n",
    "    print(f\"{num} x {i} = {num*i}\")\n",
    "    i++\n"
   ]
  },
  {
   "cell_type": "code",
   "execution_count": 19,
   "id": "17854f34-e716-4b5c-bd7e-7e3b33ca4e30",
   "metadata": {},
   "outputs": [
    {
     "name": "stdin",
     "output_type": "stream",
     "text": [
      "enter num 7\n"
     ]
    },
    {
     "name": "stdout",
     "output_type": "stream",
     "text": [
      "7 x 1 = 7\n",
      "7 x 2 = 14\n",
      "7 x 3 = 21\n",
      "7 x 4 = 28\n",
      "7 x 5 = 35\n",
      "7 x 6 = 42\n",
      "7 x 7 = 49\n",
      "7 x 8 = 56\n",
      "7 x 9 = 63\n",
      "7 x 10 = 70\n"
     ]
    }
   ],
   "source": [
    "num = int(input(\"enter num\"))\n",
    "i=1\n",
    "while(i<11):\n",
    "    print(f\"{num} x {i} = {num*i}\")\n",
    "    i += 1"
   ]
  },
  {
   "cell_type": "code",
   "execution_count": 2,
   "id": "89265c0d-588c-4360-8842-5ce43fc3cec8",
   "metadata": {},
   "outputs": [
    {
     "data": {
      "text/plain": [
       "\u001b[1;31mSignature:\u001b[0m \u001b[0mprint\u001b[0m\u001b[1;33m(\u001b[0m\u001b[1;33m*\u001b[0m\u001b[0margs\u001b[0m\u001b[1;33m,\u001b[0m \u001b[0msep\u001b[0m\u001b[1;33m=\u001b[0m\u001b[1;34m' '\u001b[0m\u001b[1;33m,\u001b[0m \u001b[0mend\u001b[0m\u001b[1;33m=\u001b[0m\u001b[1;34m'\\n'\u001b[0m\u001b[1;33m,\u001b[0m \u001b[0mfile\u001b[0m\u001b[1;33m=\u001b[0m\u001b[1;32mNone\u001b[0m\u001b[1;33m,\u001b[0m \u001b[0mflush\u001b[0m\u001b[1;33m=\u001b[0m\u001b[1;32mFalse\u001b[0m\u001b[1;33m)\u001b[0m\u001b[1;33m\u001b[0m\u001b[1;33m\u001b[0m\u001b[0m\n",
       "\u001b[1;31mDocstring:\u001b[0m\n",
       "Prints the values to a stream, or to sys.stdout by default.\n",
       "\n",
       "sep\n",
       "  string inserted between values, default a space.\n",
       "end\n",
       "  string appended after the last value, default a newline.\n",
       "file\n",
       "  a file-like object (stream); defaults to the current sys.stdout.\n",
       "flush\n",
       "  whether to forcibly flush the stream.\n",
       "\u001b[1;31mType:\u001b[0m      builtin_function_or_method"
      ]
     },
     "metadata": {},
     "output_type": "display_data"
    }
   ],
   "source": [
    "print?\n"
   ]
  },
  {
   "cell_type": "code",
   "execution_count": 6,
   "id": "0d65b8aa-85df-4098-aaf8-d7da05f3146b",
   "metadata": {},
   "outputs": [
    {
     "name": "stdout",
     "output_type": "stream",
     "text": [
      "hello\n",
      "world\n"
     ]
    }
   ],
   "source": [
    "print(\"hello\");\n",
    "print(\"world\");"
   ]
  },
  {
   "cell_type": "code",
   "execution_count": null,
   "id": "ac108ea6-0fbb-4dcc-93ab-6a0ee80875fa",
   "metadata": {},
   "outputs": [],
   "source": []
  },
  {
   "cell_type": "code",
   "execution_count": null,
   "id": "ed5a1a9d-9ff3-45de-8363-96d187aa50db",
   "metadata": {},
   "outputs": [],
   "source": []
  }
 ],
 "metadata": {
  "kernelspec": {
   "display_name": "Python 3 (ipykernel)",
   "language": "python",
   "name": "python3"
  },
  "language_info": {
   "codemirror_mode": {
    "name": "ipython",
    "version": 3
   },
   "file_extension": ".py",
   "mimetype": "text/x-python",
   "name": "python",
   "nbconvert_exporter": "python",
   "pygments_lexer": "ipython3",
   "version": "3.13.5"
  }
 },
 "nbformat": 4,
 "nbformat_minor": 5
}
