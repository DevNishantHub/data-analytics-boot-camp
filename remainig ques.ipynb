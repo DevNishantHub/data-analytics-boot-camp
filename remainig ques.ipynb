{
 "cells": [
  {
   "cell_type": "code",
   "execution_count": 13,
   "id": "39f0c70a-7a08-4236-ba0f-9ff929752f99",
   "metadata": {},
   "outputs": [
    {
     "name": "stdin",
     "output_type": "stream",
     "text": [
      " 45\n",
      " 12\n",
      " 45\n",
      " 42\n",
      " 14\n",
      " 245\n",
      " 2\n",
      " 2\n",
      " 212\n",
      " 45\n"
     ]
    },
    {
     "name": "stdout",
     "output_type": "stream",
     "text": [
      "Maximum value in list is 245\n"
     ]
    }
   ],
   "source": [
    "lis = []\n",
    "for i in range(0,10):\n",
    "    lis.append(int(input()))\n",
    "maximum = 0\n",
    "for i in lis:\n",
    "    if i > maximum:\n",
    "        maximum = i\n",
    "print(\"Maximum value in list is\",maximum)"
   ]
  },
  {
   "cell_type": "code",
   "execution_count": 4,
   "id": "7f79e37d-a4c0-420d-9a2a-3ae05322ab9d",
   "metadata": {},
   "outputs": [
    {
     "name": "stdout",
     "output_type": "stream",
     "text": [
      "[1, 3, 5, 5, 351, 51, 13, 1]\n"
     ]
    }
   ],
   "source": [
    "li = [1,2,3,5,4,5,4,56,16,16,156,351,51,13,1]\n",
    "for i in reversed(li):\n",
    "    if i % 2 == 0:\n",
    "        li.remove(i)\n",
    "print(li)\n"
   ]
  },
  {
   "cell_type": "code",
   "execution_count": 15,
   "id": "35d43449-5eac-4fd4-be9a-0a67a7acc05d",
   "metadata": {},
   "outputs": [
    {
     "name": "stdin",
     "output_type": "stream",
     "text": [
      "enter a name kunal\n"
     ]
    },
    {
     "name": "stdout",
     "output_type": "stream",
     "text": [
      "['nishant', 'mayank', 'arnav', 'tanishka']\n"
     ]
    }
   ],
   "source": [
    "names = ['nishant','mayank','arnav','kunal','tanishka']\n",
    "inp = input(\"enter a name\").lower()\n",
    "if inp in names:\n",
    "    names.remove(inp)\n",
    "print(names)"
   ]
  },
  {
   "cell_type": "code",
   "execution_count": null,
   "id": "cfbbb04b-9f1a-4a08-8cc0-505fbd431a3a",
   "metadata": {},
   "outputs": [],
   "source": []
  }
 ],
 "metadata": {
  "kernelspec": {
   "display_name": "Python 3 (ipykernel)",
   "language": "python",
   "name": "python3"
  },
  "language_info": {
   "codemirror_mode": {
    "name": "ipython",
    "version": 3
   },
   "file_extension": ".py",
   "mimetype": "text/x-python",
   "name": "python",
   "nbconvert_exporter": "python",
   "pygments_lexer": "ipython3",
   "version": "3.13.5"
  }
 },
 "nbformat": 4,
 "nbformat_minor": 5
}
