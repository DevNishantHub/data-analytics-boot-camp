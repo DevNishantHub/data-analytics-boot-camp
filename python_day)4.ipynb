{
 "cells": [
  {
   "cell_type": "code",
   "execution_count": 6,
   "id": "92f8cbb3-5de4-42b8-a82c-7de105953b3d",
   "metadata": {},
   "outputs": [
    {
     "name": "stdout",
     "output_type": "stream",
     "text": [
      "120\n"
     ]
    }
   ],
   "source": [
    "def fact(n):\n",
    "    if n== 1:\n",
    "        return 1\n",
    "    return n*fact(n-1) \n",
    "print(fact(5))"
   ]
  },
  {
   "cell_type": "code",
   "execution_count": 8,
   "id": "5afb6bb4-38fc-42da-8b70-415a9cf8ee09",
   "metadata": {},
   "outputs": [
    {
     "name": "stdout",
     "output_type": "stream",
     "text": [
      "simple interst will be: 2000.0\n"
     ]
    }
   ],
   "source": [
    "def interst(p,r,t):\n",
    "    return (p*r*t)/100\n",
    "print(f\"simple interst will be: {interst(10000,10,2)}\")"
   ]
  },
  {
   "cell_type": "code",
   "execution_count": 10,
   "id": "a81b13a3-13ca-4f06-a8c7-37e20646ba8a",
   "metadata": {},
   "outputs": [
    {
     "name": "stdout",
     "output_type": "stream",
     "text": [
      "sum from 1 to 50 will be 1275\n"
     ]
    }
   ],
   "source": [
    "def natural_sum():\n",
    "    sum = 0\n",
    "    for i in range(1,51):\n",
    "        sum += i\n",
    "    return sum\n",
    "print(f\"sum from 1 to 50 will be {natural_sum()}\")"
   ]
  },
  {
   "cell_type": "code",
   "execution_count": 11,
   "id": "06ceb8c9-b230-457d-a830-b68f297881c5",
   "metadata": {},
   "outputs": [
    {
     "name": "stdout",
     "output_type": "stream",
     "text": [
      "2 x 1 = 2\n",
      "2 x 2 = 4\n",
      "2 x 3 = 6\n",
      "2 x 4 = 8\n",
      "2 x 5 = 10\n",
      "2 x 6 = 12\n",
      "2 x 7 = 14\n",
      "2 x 8 = 16\n",
      "2 x 9 = 18\n",
      "2 x 10 = 20\n"
     ]
    }
   ],
   "source": [
    "def table():\n",
    "    for i in range(1,11):\n",
    "        print(f\"2 x {i} = {i*2}\")\n",
    "table()"
   ]
  },
  {
   "cell_type": "code",
   "execution_count": 12,
   "id": "4db271b3-f9ff-4bd8-ad55-53e9d81ab63a",
   "metadata": {},
   "outputs": [
    {
     "name": "stdout",
     "output_type": "stream",
     "text": [
      "sum of all odd number from 1 to 50 will be 625\n"
     ]
    }
   ],
   "source": [
    "def natural_sum():\n",
    "    sum = 0\n",
    "    for i in range(1,51):\n",
    "        if i %2 != 0:\n",
    "            sum += i\n",
    "    return sum\n",
    "print(f\"sum of all odd number from 1 to 50 will be {natural_sum()}\")"
   ]
  },
  {
   "cell_type": "code",
   "execution_count": 20,
   "id": "0e9aaa41-6e7a-40be-b631-85c5d4771831",
   "metadata": {},
   "outputs": [
    {
     "name": "stdout",
     "output_type": "stream",
     "text": [
      "10\n"
     ]
    }
   ],
   "source": [
    "def calc():\n",
    "    def add():\n",
    "        print(10)\n",
    "    return add\n",
    "\n",
    "my_function = calc()\n",
    "my_function()\n"
   ]
  },
  {
   "cell_type": "code",
   "execution_count": 21,
   "id": "a26bd242-b0fc-4dad-b412-5d8feb72b98f",
   "metadata": {},
   "outputs": [
    {
     "name": "stdin",
     "output_type": "stream",
     "text": [
      "Enter your string nishant\n"
     ]
    },
    {
     "name": "stdout",
     "output_type": "stream",
     "text": [
      "normally : nishant\n",
      "After reverse: tnahsin\n"
     ]
    }
   ],
   "source": [
    "def reverse(string):\n",
    "    return string[::-1]\n",
    "name = input(\"Enter your string\")\n",
    "print(f\"normally : {name}\")\n",
    "print(f\"After reverse: {reverse(name)}\")"
   ]
  },
  {
   "cell_type": "code",
   "execution_count": 22,
   "id": "50e236c5-61f2-46a9-89e8-f69a38733537",
   "metadata": {},
   "outputs": [
    {
     "name": "stdout",
     "output_type": "stream",
     "text": [
      "100\n"
     ]
    }
   ],
   "source": [
    "# Write a function to return the square of a number.\n",
    "\n",
    "def square(n):\n",
    "    return n**2\n",
    "print(square(10))"
   ]
  },
  {
   "cell_type": "code",
   "execution_count": 23,
   "id": "2090b2a9-c9e8-468c-8b8d-f9d3b94a2c7f",
   "metadata": {},
   "outputs": [
    {
     "name": "stdout",
     "output_type": "stream",
     "text": [
      "10\n"
     ]
    }
   ],
   "source": [
    "def add(a,b):\n",
    "    return a+b\n",
    "print(add(3,7))"
   ]
  },
  {
   "cell_type": "code",
   "execution_count": 26,
   "id": "b6c15906-cbde-4a63-82e3-9f609bc0e860",
   "metadata": {},
   "outputs": [
    {
     "name": "stdout",
     "output_type": "stream",
     "text": [
      "Number 10 is even\n"
     ]
    }
   ],
   "source": [
    "def is_even(n):\n",
    "    if n %2 == 0:\n",
    "        print(f\"Number {n} is even\")\n",
    "is_even(10)\n",
    "is_even(11)"
   ]
  },
  {
   "cell_type": "code",
   "execution_count": 32,
   "id": "dbec85d8-0945-438d-a5db-213a8e81cce3",
   "metadata": {},
   "outputs": [
    {
     "name": "stdout",
     "output_type": "stream",
     "text": [
      "largest element in the list is 8545\n"
     ]
    }
   ],
   "source": [
    "def large(li):\n",
    "    large = li[0]\n",
    "    for i in li:\n",
    "        if large < i:\n",
    "            large = i\n",
    "    return large\n",
    "li = [1,2,4,5,74,4,8545,1,51,1,1]\n",
    "print(f\"largest element in the list is {large(li)}\")"
   ]
  },
  {
   "cell_type": "code",
   "execution_count": 51,
   "id": "96df7644-716c-4a06-8146-72e22c007c18",
   "metadata": {},
   "outputs": [
    {
     "name": "stdout",
     "output_type": "stream",
     "text": [
      "0\n",
      "1\n",
      "1\n",
      "2\n",
      "3\n",
      "5\n",
      "8\n",
      "13\n",
      "21\n",
      "34\n",
      "55\n"
     ]
    }
   ],
   "source": [
    "def gen(n):\n",
    "    a=0\n",
    "    b=1\n",
    "    for i in range(1,n):\n",
    "        print(a)\n",
    "        b,a=a,a+b\n",
    "gen(12)"
   ]
  },
  {
   "cell_type": "code",
   "execution_count": 39,
   "id": "02fcb075-e036-42f8-9c66-7c66a1ca5ff9",
   "metadata": {},
   "outputs": [
    {
     "name": "stdin",
     "output_type": "stream",
     "text": [
      "Enter a string nids\n"
     ]
    },
    {
     "name": "stdout",
     "output_type": "stream",
     "text": [
      "Total  number of vowel in string are 0\n"
     ]
    }
   ],
   "source": [
    "name = input(\"Enter a string\").lower()\n",
    "count = 0\n",
    "for i in name:\n",
    "    if i == ('a','e','i','o','u'):\n",
    "        count += 1\n",
    "print(f\"Total  number of vowel in string are {count}\")"
   ]
  },
  {
   "cell_type": "code",
   "execution_count": 40,
   "id": "298e620f-fd46-4647-87ca-b1a6504f9eee",
   "metadata": {},
   "outputs": [
    {
     "name": "stdout",
     "output_type": "stream",
     "text": [
      "sum of number of args is 60\n"
     ]
    }
   ],
   "source": [
    "def sum(*args):\n",
    "    count = 0\n",
    "    for i in args:\n",
    "        count += i\n",
    "    return count\n",
    "print(f\"sum of number of args is {sum(10,20)}\")"
   ]
  },
  {
   "cell_type": "code",
   "execution_count": 43,
   "id": "f3c6aeb0-9740-41df-b302-d9a079cfb0fa",
   "metadata": {},
   "outputs": [
    {
     "name": "stdout",
     "output_type": "stream",
     "text": [
      "String nishant is not a plaindrone\n",
      "String racecar is a palindrome\n"
     ]
    }
   ],
   "source": [
    "def check_plaindrome(st):\n",
    "    rev = st[::-1]\n",
    "    if st == rev:\n",
    "        print(f\"String {st} is a palindrome\")\n",
    "    else:\n",
    "        print(f\"String {st} is not a plaindrone\")\n",
    "\n",
    "check_plaindrome(\"nishant\")\n",
    "check_plaindrome(\"racecar\")"
   ]
  },
  {
   "cell_type": "code",
   "execution_count": 44,
   "id": "37ad4390-b836-4b22-8152-0aab9dcf7a61",
   "metadata": {},
   "outputs": [
    {
     "data": {
      "text/plain": [
       "function"
      ]
     },
     "execution_count": 44,
     "metadata": {},
     "output_type": "execute_result"
    }
   ],
   "source": [
    "type(lambda x: x)"
   ]
  },
  {
   "cell_type": "code",
   "execution_count": 45,
   "id": "80b163e7-1fe2-4ae7-a583-87b96d8fcf52",
   "metadata": {},
   "outputs": [
    {
     "name": "stdout",
     "output_type": "stream",
     "text": [
      "None\n"
     ]
    }
   ],
   "source": [
    "def foo(): \n",
    "    pass\n",
    "print(foo())"
   ]
  },
  {
   "cell_type": "code",
   "execution_count": 46,
   "id": "bcc6f3e9-4dc9-4036-b85a-9a424fa43577",
   "metadata": {},
   "outputs": [
    {
     "data": {
      "text/plain": [
       "3"
      ]
     },
     "execution_count": 46,
     "metadata": {},
     "output_type": "execute_result"
    }
   ],
   "source": [
    " len([1, 2, 3])\n",
    "\n"
   ]
  },
  {
   "cell_type": "code",
   "execution_count": 47,
   "id": "007522cc-6c12-4651-98e2-76face4fbdd1",
   "metadata": {},
   "outputs": [
    {
     "data": {
      "text/plain": [
       "True"
      ]
     },
     "execution_count": 47,
     "metadata": {},
     "output_type": "execute_result"
    }
   ],
   "source": [
    "bool('False')\n"
   ]
  },
  {
   "cell_type": "code",
   "execution_count": 53,
   "id": "8d30b78b-9bfa-42ad-bc6f-386ffc525745",
   "metadata": {},
   "outputs": [
    {
     "name": "stdout",
     "output_type": "stream",
     "text": [
      "Welcome to the Password Checker!\n",
      "You have 3 attempts to enter the correct password.\n",
      "Type 'forgot password' if you need help.\n",
      "\n"
     ]
    },
    {
     "name": "stdin",
     "output_type": "stream",
     "text": [
      "Enter your password:  as\n"
     ]
    },
    {
     "name": "stdout",
     "output_type": "stream",
     "text": [
      "Wrong password! Attempts left: 2\n"
     ]
    },
    {
     "name": "stdin",
     "output_type": "stream",
     "text": [
      "Enter your password:  as\n"
     ]
    },
    {
     "name": "stdout",
     "output_type": "stream",
     "text": [
      "Wrong password! Attempts left: 1\n"
     ]
    },
    {
     "name": "stdin",
     "output_type": "stream",
     "text": [
      "Enter your password:  as\n"
     ]
    },
    {
     "name": "stdout",
     "output_type": "stream",
     "text": [
      "Attempt limit reached! Access denied.\n"
     ]
    },
    {
     "data": {
      "text/plain": [
       "False"
      ]
     },
     "execution_count": 53,
     "metadata": {},
     "output_type": "execute_result"
    }
   ],
   "source": [
    "def password_checker():\n",
    "    print(\"Welcome to the Password Checker!\")\n",
    "    print(\"You have 3 attempts to enter the correct password.\")\n",
    "    print(\"Type 'forgot password' if you need help.\\n\")\n",
    "    \n",
    "    correct_password = \"abc@123\"\n",
    "    attempts_left = 3\n",
    "    \n",
    "    while attempts_left > 0:\n",
    "        user_password = input(\"Enter your password: \")\n",
    "        \n",
    "        if user_password == \"forgot password\":\n",
    "            print(\"Password sent to your email!\")\n",
    "            continue\n",
    "            \n",
    "        if user_password == correct_password:\n",
    "            print(f\"Password matched: {correct_password}\")\n",
    "            print(\"Access granted! Welcome!\")\n",
    "            \n",
    "        attempts_left -= 1\n",
    "        \n",
    "        if attempts_left > 0:\n",
    "            print(f\"Wrong password! Attempts left: {attempts_left}\")\n",
    "        else:\n",
    "            print(\"Attempt limit reached! Access denied.\")\n",
    "\n",
    "\n",
    "password_checker()"
   ]
  },
  {
   "cell_type": "code",
   "execution_count": null,
   "id": "4d375faf-eed1-40d0-b84d-478504b45519",
   "metadata": {},
   "outputs": [],
   "source": []
  }
 ],
 "metadata": {
  "kernelspec": {
   "display_name": "Python 3 (ipykernel)",
   "language": "python",
   "name": "python3"
  },
  "language_info": {
   "codemirror_mode": {
    "name": "ipython",
    "version": 3
   },
   "file_extension": ".py",
   "mimetype": "text/x-python",
   "name": "python",
   "nbconvert_exporter": "python",
   "pygments_lexer": "ipython3",
   "version": "3.13.5"
  }
 },
 "nbformat": 4,
 "nbformat_minor": 5
}
