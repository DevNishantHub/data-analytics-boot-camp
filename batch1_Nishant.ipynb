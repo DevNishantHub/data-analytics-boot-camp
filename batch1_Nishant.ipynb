{
 "cells": [
  {
   "cell_type": "code",
   "execution_count": 8,
   "id": "3aef7bbb-c7df-4ca5-9c9f-0796780b0cac",
   "metadata": {},
   "outputs": [
    {
     "name": "stdin",
     "output_type": "stream",
     "text": [
      "enter value of list 12\n",
      "enter value of list 12\n",
      "enter value of list 45\n",
      "enter value of list 4545\n",
      "enter value of list 475\n"
     ]
    },
    {
     "name": "stdout",
     "output_type": "stream",
     "text": [
      "[12, 12, 45, 4545, 475]\n"
     ]
    }
   ],
   "source": [
    "list1 = []\n",
    "for i in range(1,6):\n",
    "    list1.append(int(input(\"enter value of list\")))\n",
    "\n",
    "print(list1)"
   ]
  },
  {
   "cell_type": "code",
   "execution_count": 9,
   "id": "c89835b1-6498-4ce3-afbc-00b403eb86f4",
   "metadata": {},
   "outputs": [
    {
     "name": "stdout",
     "output_type": "stream",
     "text": [
      "[1, 2, 3, 4, 5, 6]\n"
     ]
    }
   ],
   "source": [
    "list1 = [1,2,3]\n",
    "list2 = [4,5,6]\n",
    "list1.extend(list2)\n",
    "print(list1)"
   ]
  },
  {
   "cell_type": "code",
   "execution_count": 10,
   "id": "57601cda-a7d1-4745-9e6b-d5c23bd29818",
   "metadata": {},
   "outputs": [
    {
     "name": "stdout",
     "output_type": "stream",
     "text": [
      "[10, 20, 25, 30, 40]\n"
     ]
    }
   ],
   "source": [
    "l = [10,20,30,40]\n",
    "l.insert(2,25)\n",
    "print(l)"
   ]
  },
  {
   "cell_type": "code",
   "execution_count": 11,
   "id": "b1fd90be-8cff-4f2a-be9a-04daa2cde71e",
   "metadata": {},
   "outputs": [
    {
     "name": "stdout",
     "output_type": "stream",
     "text": [
      "[10, 30, 40]\n"
     ]
    }
   ],
   "source": [
    "l = [10,20,30,40]\n",
    "l.remove(20)\n",
    "print(l)"
   ]
  },
  {
   "cell_type": "code",
   "execution_count": 12,
   "id": "6bcacba6-e633-4bb2-9245-f4523e04d41f",
   "metadata": {},
   "outputs": [
    {
     "name": "stdout",
     "output_type": "stream",
     "text": [
      "[1, 2, 3, 4]\n"
     ]
    }
   ],
   "source": [
    "l = [1,2,3,4,5]\n",
    "l.pop()\n",
    "print(l)\n"
   ]
  },
  {
   "cell_type": "code",
   "execution_count": 14,
   "id": "e7fbe2ec-b09c-4e02-bb15-dbcf9d278a92",
   "metadata": {},
   "outputs": [
    {
     "name": "stdout",
     "output_type": "stream",
     "text": [
      "2\n"
     ]
    }
   ],
   "source": [
    "l1 = [5,10,15,20,25]\n",
    "print(l1.index(15))\n"
   ]
  },
  {
   "cell_type": "code",
   "execution_count": 16,
   "id": "332c4995-4b0d-4ed3-8ca1-84d7af2c857a",
   "metadata": {},
   "outputs": [
    {
     "name": "stdout",
     "output_type": "stream",
     "text": [
      "4\n"
     ]
    }
   ],
   "source": [
    "l2 = [1,2,2,3,2,4,2]\n",
    "print(l2.count(2))"
   ]
  },
  {
   "cell_type": "code",
   "execution_count": 17,
   "id": "117aac74-e7ca-49a2-896d-02795e293917",
   "metadata": {},
   "outputs": [
    {
     "name": "stdout",
     "output_type": "stream",
     "text": [
      "in acending:  [3, 5, 7, 10]\n",
      "in decending [10, 7, 5, 3]\n"
     ]
    }
   ],
   "source": [
    "l3 = [10,5,7,3]\n",
    "l3.sort()\n",
    "print(\"in acending: \",l3)\n",
    "l3.reverse()\n",
    "print(\"in decending\",l3)\n"
   ]
  },
  {
   "cell_type": "code",
   "execution_count": 18,
   "id": "726d8349-ddd1-4ca2-87d1-776baf799993",
   "metadata": {},
   "outputs": [
    {
     "name": "stdout",
     "output_type": "stream",
     "text": [
      "[5, 4, 3, 2, 1]\n"
     ]
    }
   ],
   "source": [
    "l4 = [1,2,3,4,5]\n",
    "l4.reverse()\n",
    "print(l4)"
   ]
  },
  {
   "cell_type": "code",
   "execution_count": 19,
   "id": "525d09ba-2983-4e3e-92a8-0c5512c6efec",
   "metadata": {},
   "outputs": [
    {
     "name": "stdout",
     "output_type": "stream",
     "text": [
      "[1, 2, 3]\n"
     ]
    }
   ],
   "source": [
    "list_old = [1,2,3]\n",
    "list_new = list_old.copy()\n",
    "print(list_new)"
   ]
  },
  {
   "cell_type": "code",
   "execution_count": null,
   "id": "0a65a88e-8c91-46ed-99ce-46d151f1e2cc",
   "metadata": {},
   "outputs": [],
   "source": []
  }
 ],
 "metadata": {
  "kernelspec": {
   "display_name": "Python 3 (ipykernel)",
   "language": "python",
   "name": "python3"
  },
  "language_info": {
   "codemirror_mode": {
    "name": "ipython",
    "version": 3
   },
   "file_extension": ".py",
   "mimetype": "text/x-python",
   "name": "python",
   "nbconvert_exporter": "python",
   "pygments_lexer": "ipython3",
   "version": "3.13.5"
  }
 },
 "nbformat": 4,
 "nbformat_minor": 5
}
